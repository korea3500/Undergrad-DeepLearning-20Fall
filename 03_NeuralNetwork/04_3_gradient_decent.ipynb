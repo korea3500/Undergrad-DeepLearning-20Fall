{
 "cells": [
  {
   "cell_type": "code",
   "execution_count": 1,
   "metadata": {},
   "outputs": [],
   "source": [
    "import numpy as np\n",
    "import matplotlib.pylab as plt"
   ]
  },
  {
   "cell_type": "code",
   "execution_count": 2,
   "metadata": {},
   "outputs": [],
   "source": [
    "def function_2(x):\n",
    "    if x.ndim == 1:\n",
    "        return np.sum(x**2)\n",
    "    else:\n",
    "        return np.sum(x**2, axis=0) # x0^2 + x1^2"
   ]
  },
  {
   "cell_type": "code",
   "execution_count": 3,
   "metadata": {},
   "outputs": [],
   "source": [
    "def numerical_gradient_single_point(f, x, verbose=False): \n",
    "    h = 1e-4\n",
    "    grad = np.zeros_like(x)\n",
    "    if verbose:\n",
    "        print('x.size={}'.format(x.size)) # (x0, x1) 을 입력으로 받음 --> 2\n",
    "       \n",
    "    for idx in range(x.size): #축별로 계산\n",
    "        v_keep = x[idx]\n",
    "        \n",
    "        # f(x+h) 계산\n",
    "        x[idx] = float(v_keep) + h #n차원 입력 중 해당 차원으로만 h를 더하고\n",
    "        fxh1 = f(x)\n",
    "        if verbose:\n",
    "            print(x, '-->', fxh1)\n",
    "        \n",
    "        # f(x-h) 계산\n",
    "        x[idx] = float(v_keep) - h #n차원 입력 중 해당 차원으로만 h를 빼서\n",
    "        fxh2 = f(x)\n",
    "        if verbose:\n",
    "            print(x, '-->', fxh2)\n",
    "        \n",
    "        grad[idx] = (fxh1 - fxh2) / (2*h) #n차원 방향의 차분을 구함 !\n",
    "        x[idx] = v_keep # 값 복원\n",
    "        \n",
    "        if verbose:\n",
    "            print('grad[{}]={}'.format(idx, grad[idx]))\n",
    "            print()\n",
    "    return grad"
   ]
  },
  {
   "cell_type": "code",
   "execution_count": 4,
   "metadata": {},
   "outputs": [],
   "source": [
    "def numerical_gradient(f, X):\n",
    "    if X.ndim == 1:\n",
    "        return numerical_gradient_single_point(f, X)\n",
    "    else:\n",
    "        grad = np.zeros_like(X)\n",
    "        \n",
    "        for idx, x in enumerate(X):\n",
    "            grad[idx] = numerical_gradient_single_point(f, x)\n",
    "        \n",
    "        return grad"
   ]
  },
  {
   "cell_type": "code",
   "execution_count": 5,
   "metadata": {},
   "outputs": [],
   "source": [
    "\n",
    "def gradient_descent(f, init_x, lr, step_num= 100, verbose = False):\n",
    "    x = init_x\n",
    "    \n",
    "    for i in range(step_num):\n",
    "        grad = numerical_gradient(f, x)\n",
    "        if verbose:\n",
    "            print(x, grad)\n",
    "        x -= lr * grad\n",
    "        \n",
    "    return x"
   ]
  },
  {
   "cell_type": "code",
   "execution_count": 6,
   "metadata": {},
   "outputs": [
    {
     "name": "stdout",
     "output_type": "stream",
     "text": [
      "[-3.  4.]\n"
     ]
    }
   ],
   "source": [
    "init_x = np.array([-3.0, 4.0])\n",
    "print(init_x)"
   ]
  },
  {
   "cell_type": "code",
   "execution_count": 7,
   "metadata": {},
   "outputs": [],
   "source": [
    "temp = []\n",
    "for i in range(10) :\n",
    "    x_final = gradient_descent(function_2, init_x, lr = 0.001)\n",
    "    x_init = x_final\n",
    "    temp.append(x_init)"
   ]
  },
  {
   "cell_type": "code",
   "execution_count": 8,
   "metadata": {},
   "outputs": [
    {
     "data": {
      "text/plain": [
       "array([-0.40519357,  0.54025809])"
      ]
     },
     "execution_count": 8,
     "metadata": {},
     "output_type": "execute_result"
    }
   ],
   "source": [
    "x_init"
   ]
  },
  {
   "cell_type": "code",
   "execution_count": 9,
   "metadata": {},
   "outputs": [],
   "source": [
    "x0 = np.arange(-2, 2, 0.25)\n",
    "x1 = np.arange(-2, 2, 0.25)"
   ]
  },
  {
   "cell_type": "code",
   "execution_count": 10,
   "metadata": {},
   "outputs": [],
   "source": [
    "X, Y = np.meshgrid(x0, x1)"
   ]
  },
  {
   "cell_type": "code",
   "execution_count": 11,
   "metadata": {},
   "outputs": [
    {
     "name": "stdout",
     "output_type": "stream",
     "text": [
      "(256,) (256,)\n",
      "(2, 256) 2\n"
     ]
    }
   ],
   "source": [
    "Xf = X.flatten()\n",
    "Yf = Y.flatten()\n",
    "\n",
    "arr = np.array([Xf, Yf])\n",
    "print(Xf.shape, Yf.shape)\n",
    "print(arr.shape, arr.ndim)"
   ]
  },
  {
   "cell_type": "code",
   "execution_count": 15,
   "metadata": {},
   "outputs": [],
   "source": [
    "lr = [0.01, 0.1, 1.0, 10.0, 100.0]\n",
    "x_final = []\n",
    "for i in range(5) :\n",
    "    temp = gradient_descent(function_2, init_x, lr[i])\n",
    "    x_final.append(temp)"
   ]
  },
  {
   "cell_type": "code",
   "execution_count": 24,
   "metadata": {},
   "outputs": [],
   "source": [
    "def gradient_descent(f, init_x, lr, step_num= 100, return_history = False, verbose = False):\n",
    "    x = init_x\n",
    "    vx = np.zeros((step_num+1, 2)) # x의 궤적의 변화를 기록하기 위한 list 초기화\n",
    "    vx[0] = x\n",
    "    \n",
    "    for i in range(step_num):\n",
    "        grad = numerical_gradient(f, x)\n",
    "        \n",
    "        x -= lr * grad\n",
    "        if verbose:\n",
    "            print(x, grad)\n",
    "            \n",
    "        vx[i+1] = x # keep x in the history list\n",
    "    \n",
    "    if return_history:\n",
    "        \n",
    "        return x, vx\n",
    "    else:\n",
    "        return x"
   ]
  },
  {
   "cell_type": "code",
   "execution_count": 25,
   "metadata": {},
   "outputs": [],
   "source": [
    "x_final = []\n",
    "for i in range(5) :\n",
    "    temp = gradient_descent(function_2, init_x, lr[i])\n",
    "    x_final.append(temp)"
   ]
  },
  {
   "cell_type": "code",
   "execution_count": 28,
   "metadata": {},
   "outputs": [],
   "source": [
    "init_x = np.array([-3.0, 4.0])"
   ]
  },
  {
   "cell_type": "code",
   "execution_count": 29,
   "metadata": {},
   "outputs": [],
   "source": [
    "x_final, x_hist = gradient_descent(function_2, init_x.copy(), lr = 0.1, return_history = True, verbose=False)"
   ]
  },
  {
   "cell_type": "code",
   "execution_count": 30,
   "metadata": {},
   "outputs": [
    {
     "data": {
      "text/plain": [
       "array([-6.11110793e-10,  8.14814391e-10])"
      ]
     },
     "execution_count": 30,
     "metadata": {},
     "output_type": "execute_result"
    }
   ],
   "source": [
    "x_final"
   ]
  },
  {
   "cell_type": "code",
   "execution_count": 31,
   "metadata": {},
   "outputs": [
    {
     "data": {
      "text/plain": [
       "array([[-3.00000000e+00,  4.00000000e+00],\n",
       "       [-2.40000000e+00,  3.20000000e+00],\n",
       "       [-1.92000000e+00,  2.56000000e+00],\n",
       "       [-1.53600000e+00,  2.04800000e+00],\n",
       "       [-1.22880000e+00,  1.63840000e+00],\n",
       "       [-9.83040000e-01,  1.31072000e+00],\n",
       "       [-7.86432000e-01,  1.04857600e+00],\n",
       "       [-6.29145600e-01,  8.38860800e-01],\n",
       "       [-5.03316480e-01,  6.71088640e-01],\n",
       "       [-4.02653184e-01,  5.36870912e-01],\n",
       "       [-3.22122547e-01,  4.29496730e-01],\n",
       "       [-2.57698038e-01,  3.43597384e-01],\n",
       "       [-2.06158430e-01,  2.74877907e-01],\n",
       "       [-1.64926744e-01,  2.19902326e-01],\n",
       "       [-1.31941395e-01,  1.75921860e-01],\n",
       "       [-1.05553116e-01,  1.40737488e-01],\n",
       "       [-8.44424930e-02,  1.12589991e-01],\n",
       "       [-6.75539944e-02,  9.00719925e-02],\n",
       "       [-5.40431955e-02,  7.20575940e-02],\n",
       "       [-4.32345564e-02,  5.76460752e-02],\n",
       "       [-3.45876451e-02,  4.61168602e-02],\n",
       "       [-2.76701161e-02,  3.68934881e-02],\n",
       "       [-2.21360929e-02,  2.95147905e-02],\n",
       "       [-1.77088743e-02,  2.36118324e-02],\n",
       "       [-1.41670994e-02,  1.88894659e-02],\n",
       "       [-1.13336796e-02,  1.51115727e-02],\n",
       "       [-9.06694365e-03,  1.20892582e-02],\n",
       "       [-7.25355492e-03,  9.67140656e-03],\n",
       "       [-5.80284393e-03,  7.73712525e-03],\n",
       "       [-4.64227515e-03,  6.18970020e-03],\n",
       "       [-3.71382012e-03,  4.95176016e-03],\n",
       "       [-2.97105609e-03,  3.96140813e-03],\n",
       "       [-2.37684488e-03,  3.16912650e-03],\n",
       "       [-1.90147590e-03,  2.53530120e-03],\n",
       "       [-1.52118072e-03,  2.02824096e-03],\n",
       "       [-1.21694458e-03,  1.62259277e-03],\n",
       "       [-9.73555661e-04,  1.29807421e-03],\n",
       "       [-7.78844529e-04,  1.03845937e-03],\n",
       "       [-6.23075623e-04,  8.30767497e-04],\n",
       "       [-4.98460498e-04,  6.64613998e-04],\n",
       "       [-3.98768399e-04,  5.31691198e-04],\n",
       "       [-3.19014719e-04,  4.25352959e-04],\n",
       "       [-2.55211775e-04,  3.40282367e-04],\n",
       "       [-2.04169420e-04,  2.72225894e-04],\n",
       "       [-1.63335536e-04,  2.17780715e-04],\n",
       "       [-1.30668429e-04,  1.74224572e-04],\n",
       "       [-1.04534743e-04,  1.39379657e-04],\n",
       "       [-8.36277945e-05,  1.11503726e-04],\n",
       "       [-6.69022356e-05,  8.92029808e-05],\n",
       "       [-5.35217885e-05,  7.13623846e-05],\n",
       "       [-4.28174308e-05,  5.70899077e-05],\n",
       "       [-3.42539446e-05,  4.56719262e-05],\n",
       "       [-2.74031557e-05,  3.65375409e-05],\n",
       "       [-2.19225246e-05,  2.92300327e-05],\n",
       "       [-1.75380196e-05,  2.33840262e-05],\n",
       "       [-1.40304157e-05,  1.87072210e-05],\n",
       "       [-1.12243326e-05,  1.49657768e-05],\n",
       "       [-8.97946606e-06,  1.19726214e-05],\n",
       "       [-7.18357285e-06,  9.57809713e-06],\n",
       "       [-5.74685828e-06,  7.66247770e-06],\n",
       "       [-4.59748662e-06,  6.12998216e-06],\n",
       "       [-3.67798930e-06,  4.90398573e-06],\n",
       "       [-2.94239144e-06,  3.92318858e-06],\n",
       "       [-2.35391315e-06,  3.13855087e-06],\n",
       "       [-1.88313052e-06,  2.51084069e-06],\n",
       "       [-1.50650442e-06,  2.00867256e-06],\n",
       "       [-1.20520353e-06,  1.60693804e-06],\n",
       "       [-9.64162827e-07,  1.28555044e-06],\n",
       "       [-7.71330261e-07,  1.02844035e-06],\n",
       "       [-6.17064209e-07,  8.22752279e-07],\n",
       "       [-4.93651367e-07,  6.58201823e-07],\n",
       "       [-3.94921094e-07,  5.26561458e-07],\n",
       "       [-3.15936875e-07,  4.21249167e-07],\n",
       "       [-2.52749500e-07,  3.36999333e-07],\n",
       "       [-2.02199600e-07,  2.69599467e-07],\n",
       "       [-1.61759680e-07,  2.15679573e-07],\n",
       "       [-1.29407744e-07,  1.72543659e-07],\n",
       "       [-1.03526195e-07,  1.38034927e-07],\n",
       "       [-8.28209562e-08,  1.10427942e-07],\n",
       "       [-6.62567649e-08,  8.83423532e-08],\n",
       "       [-5.30054119e-08,  7.06738826e-08],\n",
       "       [-4.24043296e-08,  5.65391061e-08],\n",
       "       [-3.39234636e-08,  4.52312849e-08],\n",
       "       [-2.71387709e-08,  3.61850279e-08],\n",
       "       [-2.17110167e-08,  2.89480223e-08],\n",
       "       [-1.73688134e-08,  2.31584178e-08],\n",
       "       [-1.38950507e-08,  1.85267343e-08],\n",
       "       [-1.11160406e-08,  1.48213874e-08],\n",
       "       [-8.89283245e-09,  1.18571099e-08],\n",
       "       [-7.11426596e-09,  9.48568795e-09],\n",
       "       [-5.69141277e-09,  7.58855036e-09],\n",
       "       [-4.55313022e-09,  6.07084029e-09],\n",
       "       [-3.64250417e-09,  4.85667223e-09],\n",
       "       [-2.91400334e-09,  3.88533778e-09],\n",
       "       [-2.33120267e-09,  3.10827023e-09],\n",
       "       [-1.86496214e-09,  2.48661618e-09],\n",
       "       [-1.49196971e-09,  1.98929295e-09],\n",
       "       [-1.19357577e-09,  1.59143436e-09],\n",
       "       [-9.54860614e-10,  1.27314749e-09],\n",
       "       [-7.63888491e-10,  1.01851799e-09],\n",
       "       [-6.11110793e-10,  8.14814391e-10]])"
      ]
     },
     "execution_count": 31,
     "metadata": {},
     "output_type": "execute_result"
    }
   ],
   "source": [
    "x_hist"
   ]
  },
  {
   "cell_type": "code",
   "execution_count": 32,
   "metadata": {},
   "outputs": [],
   "source": [
    "X, Y = np.meshgrid(x0, x1)"
   ]
  },
  {
   "cell_type": "code",
   "execution_count": 33,
   "metadata": {},
   "outputs": [
    {
     "name": "stdout",
     "output_type": "stream",
     "text": [
      "[-6.11110793e-10  8.14814391e-10]\n",
      "(101, 2)\n"
     ]
    }
   ],
   "source": [
    "print(x_final)\n",
    "print(x_hist.shape)"
   ]
  },
  {
   "cell_type": "code",
   "execution_count": null,
   "metadata": {},
   "outputs": [],
   "source": []
  },
  {
   "cell_type": "code",
   "execution_count": 34,
   "metadata": {},
   "outputs": [],
   "source": [
    "z = function_2(arr)"
   ]
  },
  {
   "cell_type": "code",
   "execution_count": 35,
   "metadata": {},
   "outputs": [
    {
     "name": "stdout",
     "output_type": "stream",
     "text": [
      "(16, 16) (16, 16) (256,)\n"
     ]
    }
   ],
   "source": [
    "print(X.shape, Y.shape, z.shape)"
   ]
  },
  {
   "cell_type": "code",
   "execution_count": 36,
   "metadata": {},
   "outputs": [],
   "source": [
    "from mpl_toolkits.mplot3d import Axes3D\n",
    "nrows = X.shape[0]\n",
    "ncols = X.shape[1]\n",
    "z = np.reshape(z, (nrows,ncols))"
   ]
  },
  {
   "cell_type": "code",
   "execution_count": 37,
   "metadata": {},
   "outputs": [],
   "source": [
    "z_hist = x_hist[:, 1]"
   ]
  },
  {
   "cell_type": "code",
   "execution_count": 38,
   "metadata": {},
   "outputs": [
    {
     "data": {
      "text/plain": [
       "array([4.00000000e+00, 3.20000000e+00, 2.56000000e+00, 2.04800000e+00,\n",
       "       1.63840000e+00, 1.31072000e+00, 1.04857600e+00, 8.38860800e-01,\n",
       "       6.71088640e-01, 5.36870912e-01, 4.29496730e-01, 3.43597384e-01,\n",
       "       2.74877907e-01, 2.19902326e-01, 1.75921860e-01, 1.40737488e-01,\n",
       "       1.12589991e-01, 9.00719925e-02, 7.20575940e-02, 5.76460752e-02,\n",
       "       4.61168602e-02, 3.68934881e-02, 2.95147905e-02, 2.36118324e-02,\n",
       "       1.88894659e-02, 1.51115727e-02, 1.20892582e-02, 9.67140656e-03,\n",
       "       7.73712525e-03, 6.18970020e-03, 4.95176016e-03, 3.96140813e-03,\n",
       "       3.16912650e-03, 2.53530120e-03, 2.02824096e-03, 1.62259277e-03,\n",
       "       1.29807421e-03, 1.03845937e-03, 8.30767497e-04, 6.64613998e-04,\n",
       "       5.31691198e-04, 4.25352959e-04, 3.40282367e-04, 2.72225894e-04,\n",
       "       2.17780715e-04, 1.74224572e-04, 1.39379657e-04, 1.11503726e-04,\n",
       "       8.92029808e-05, 7.13623846e-05, 5.70899077e-05, 4.56719262e-05,\n",
       "       3.65375409e-05, 2.92300327e-05, 2.33840262e-05, 1.87072210e-05,\n",
       "       1.49657768e-05, 1.19726214e-05, 9.57809713e-06, 7.66247770e-06,\n",
       "       6.12998216e-06, 4.90398573e-06, 3.92318858e-06, 3.13855087e-06,\n",
       "       2.51084069e-06, 2.00867256e-06, 1.60693804e-06, 1.28555044e-06,\n",
       "       1.02844035e-06, 8.22752279e-07, 6.58201823e-07, 5.26561458e-07,\n",
       "       4.21249167e-07, 3.36999333e-07, 2.69599467e-07, 2.15679573e-07,\n",
       "       1.72543659e-07, 1.38034927e-07, 1.10427942e-07, 8.83423532e-08,\n",
       "       7.06738826e-08, 5.65391061e-08, 4.52312849e-08, 3.61850279e-08,\n",
       "       2.89480223e-08, 2.31584178e-08, 1.85267343e-08, 1.48213874e-08,\n",
       "       1.18571099e-08, 9.48568795e-09, 7.58855036e-09, 6.07084029e-09,\n",
       "       4.85667223e-09, 3.88533778e-09, 3.10827023e-09, 2.48661618e-09,\n",
       "       1.98929295e-09, 1.59143436e-09, 1.27314749e-09, 1.01851799e-09,\n",
       "       8.14814391e-10])"
      ]
     },
     "execution_count": 38,
     "metadata": {},
     "output_type": "execute_result"
    }
   ],
   "source": [
    "z_hist"
   ]
  },
  {
   "cell_type": "code",
   "execution_count": 40,
   "metadata": {},
   "outputs": [
    {
     "data": {
      "image/png": "[encoded data removed]",
      "text/plain": [
       "<Figure size 432x288 with 1 Axes>"
      ]
     },
     "metadata": {
      "needs_background": "light"
     },
     "output_type": "display_data"
    }
   ],
   "source": [
    "fig = plt.figure()\n",
    "ax = plt.axes(projection = '3d')\n",
    "ax.plot_wireframe(X, Y, z)\n",
    "ax.set_xlabel('x0')\n",
    "ax.set_ylabel('x1')\n",
    "ax.set_zlabel('z')\n",
    "ax.plot(x_hist[:, 0], x_hist[:, 1], z_hist, 'o-', c = 'orange')\n",
    "ax.view_init(elev = 45., azim = 300)\n"
   ]
  },
  {
   "attachments": {
    "84639219-dd94-4520-bb84-b7ff1a0355fd.png": {
     "image/png": "[encoded data removed]"
    }
   },
   "cell_type": "markdown",
   "metadata": {},
   "source": [
    "![image.png](attachment:84639219-dd94-4520-bb84-b7ff1a0355fd.png)"
   ]
  }
 ],
 "metadata": {
  "kernelspec": {
   "display_name": "Python 3",
   "language": "python",
   "name": "python3"
  },
  "language_info": {
   "codemirror_mode": {
    "name": "ipython",
    "version": 3
   },
   "file_extension": ".py",
   "mimetype": "text/x-python",
   "name": "python",
   "nbconvert_exporter": "python",
   "pygments_lexer": "ipython3",
   "version": "3.6.9"
  }
 },
 "nbformat": 4,
 "nbformat_minor": 4
}
