{
 "cells": [
  {
   "cell_type": "markdown",
   "metadata": {},
   "source": [
    "**MSE : Mean square error(평균제곱오차)**  \n",
    "\n",
    " $$MSE = \\frac{(실제값-예측값)^2}{데이터수}$$\n",
    "\n",
    "$$R^2 = 1- \\frac{MSE of regression line}{MSE of the average of data}$$\n",
    "\n"
   ]
  },
  {
   "cell_type": "code",
   "execution_count": 5,
   "metadata": {},
   "outputs": [],
   "source": [
    "import numpy as np\n",
    "def mean_squared_error(y, t):\n",
    "    return 0.5 * np.sum((y-t)**2)\n",
    "\n",
    "\n"
   ]
  },
  {
   "cell_type": "code",
   "execution_count": 6,
   "metadata": {},
   "outputs": [],
   "source": [
    "t = [ 0, 0, 1, 0, 0, 0, 0, 0, 0, 0]\n",
    "\n",
    "y1 = [0.2, 0.01, 0.5, 0.0, 0.02, 0.01, 0.0, 0.15, 0.1, 0.02]\n",
    "y2 = [0.2, 0.01, 0.0, 0.5, 0.02, 0.01, 0.0, 0.15, 0.1, 0.02]\n"
   ]
  },
  {
   "cell_type": "code",
   "execution_count": 8,
   "metadata": {},
   "outputs": [
    {
     "name": "stdout",
     "output_type": "stream",
     "text": [
      "loss1 :  0.16175000000000003 loss2 0.66175\n"
     ]
    }
   ],
   "source": [
    "loss1 = mean_squared_error(np.array(t), np.array(y1))\n",
    "loss2 = mean_squared_error(np.array(t), np.array(y2))\n",
    "print('loss1 : ', loss1, 'loss2', loss2)"
   ]
  },
  {
   "cell_type": "code",
   "execution_count": 9,
   "metadata": {},
   "outputs": [],
   "source": [
    "def cross_entropy_error(y, t):\n",
    "    if y.ndim == 1:\n",
    "        t = t.reshape(1, t.size)\n",
    "        y = y.reshape(1, y.size)\n",
    "        \n",
    "    # 훈련 데이터가 원-핫 벡터라면 정답 레이블의 인덱스로 반환\n",
    "    if t.size == y.size:\n",
    "        t = t.argmax(axis=1)\n",
    "             \n",
    "    batch_size = y.shape[0]\n",
    "    return -np.sum(np.log(y[np.arange(batch_size), t] + 1e-7)) / batch_size\n"
   ]
  },
  {
   "cell_type": "code",
   "execution_count": 11,
   "metadata": {},
   "outputs": [
    {
     "name": "stdout",
     "output_type": "stream",
     "text": [
      "-9.999999505838704e-08\n"
     ]
    }
   ],
   "source": [
    "l1 = cross_entropy_error(np.array(t), np.array(y1))\n",
    "print(l1)"
   ]
  },
  {
   "cell_type": "code",
   "execution_count": 12,
   "metadata": {},
   "outputs": [
    {
     "name": "stdout",
     "output_type": "stream",
     "text": [
      "16.11809565095832\n"
     ]
    }
   ],
   "source": [
    "l2 = cross_entropy_error(np.array(t), np.array(y2))\n",
    "print(l2)"
   ]
  },
  {
   "cell_type": "code",
   "execution_count": 13,
   "metadata": {},
   "outputs": [],
   "source": [
    "t  = [ 0, 1]\n",
    "\n",
    "y1 = [ 0.2, 0.8]\n",
    "y2 = [ 0.8, 0.2]\n",
    "y3 = [ 0.1, 0.9]"
   ]
  },
  {
   "cell_type": "code",
   "execution_count": 16,
   "metadata": {},
   "outputs": [
    {
     "name": "stdout",
     "output_type": "stream",
     "text": [
      "mse\n",
      "loss1_1 :  0.039999999999999994\n",
      "loss1_2 :  0.6400000000000001\n",
      "loss1_# :  0.009999999999999998\n"
     ]
    }
   ],
   "source": [
    "loss1_1 = mean_squared_error(np.array(t), np.array(y1))\n",
    "loss1_2 = mean_squared_error(np.array(t), np.array(y2))\n",
    "loss1_3 = mean_squared_error(np.array(t), np.array(y3))\n",
    "print('mse\\nloss1_1 : ', loss1_1)\n",
    "print('loss1_2 : ', loss1_2)\n",
    "print('loss1_# : ', loss1_3)\n",
    "\n"
   ]
  },
  {
   "cell_type": "code",
   "execution_count": 17,
   "metadata": {},
   "outputs": [
    {
     "name": "stdout",
     "output_type": "stream",
     "text": [
      "CEE\n",
      "loss1_1 :  -9.999999505838704e-08\n",
      "loss1_2 :  16.11809565095832\n",
      "loss1_# :  -9.999999505838704e-08\n"
     ]
    }
   ],
   "source": [
    "loss2_1 = cross_entropy_error(np.array(t), np.array(y1))\n",
    "loss2_2 = cross_entropy_error(np.array(t), np.array(y2))\n",
    "loss2_3 = cross_entropy_error(np.array(t), np.array(y3))\n",
    "print('CEE\\nloss1_1 : ', loss2_1)\n",
    "print('loss1_2 : ', loss2_2)\n",
    "print('loss1_# : ', loss2_3)\n"
   ]
  },
  {
   "cell_type": "code",
   "execution_count": null,
   "metadata": {},
   "outputs": [],
   "source": []
  }
 ],
 "metadata": {
  "kernelspec": {
   "display_name": "Python 3",
   "language": "python",
   "name": "python3"
  },
  "language_info": {
   "codemirror_mode": {
    "name": "ipython",
    "version": 3
   },
   "file_extension": ".py",
   "mimetype": "text/x-python",
   "name": "python",
   "nbconvert_exporter": "python",
   "pygments_lexer": "ipython3",
   "version": "3.7.9"
  }
 },
 "nbformat": 4,
 "nbformat_minor": 4
}
