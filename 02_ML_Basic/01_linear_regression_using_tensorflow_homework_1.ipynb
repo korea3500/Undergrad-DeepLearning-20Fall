{
 "cells": [
  {
   "cell_type": "code",
   "execution_count": 1,
   "metadata": {},
   "outputs": [
    {
     "data": {
      "text/plain": [
       "'1.19.1'"
      ]
     },
     "execution_count": 1,
     "metadata": {},
     "output_type": "execute_result"
    }
   ],
   "source": [
    "import numpy as np\n",
    "\n",
    "np.__version__\n",
    "\n"
   ]
  },
  {
   "cell_type": "code",
   "execution_count": null,
   "metadata": {},
   "outputs": [],
   "source": []
  },
  {
   "cell_type": "code",
   "execution_count": 2,
   "metadata": {},
   "outputs": [
    {
     "name": "stdout",
     "output_type": "stream",
     "text": [
      "1\n",
      "0\n",
      "0\n",
      "0\n"
     ]
    }
   ],
   "source": [
    "def AND(x1, x2) :\n",
    "    x = np.array([x1, x2])\n",
    "    w = np.array([0.5, 0.5])\n",
    "    b = -0.7\n",
    "    \n",
    "    tmp = np.sum(w*x) + b\n",
    "    if tmp <=0 :\n",
    "        return 0\n",
    "    else :\n",
    "        return 1\n",
    "    \n",
    "    \n",
    "print(AND(1, 1))\n",
    "print(AND(1, 0))\n",
    "print(AND(0, 1))\n",
    "print(AND(0, 0))"
   ]
  },
  {
   "cell_type": "code",
   "execution_count": 3,
   "metadata": {},
   "outputs": [
    {
     "name": "stdout",
     "output_type": "stream",
     "text": [
      "0\n",
      "1\n",
      "1\n",
      "1\n"
     ]
    }
   ],
   "source": [
    "def NAND(x1, x2) :\n",
    "    x = np.array([x1, x2])\n",
    "    w = np.array([-0.5, -0.5])\n",
    "    b = 0.7\n",
    "    \n",
    "    tmp = np.sum(w*x) + b\n",
    "    if tmp <=0 :\n",
    "        return 0\n",
    "    else :\n",
    "        return 1\n",
    "    \n",
    "print(NAND(1, 1))\n",
    "print(NAND(1, 0))\n",
    "print(NAND(0, 1))\n",
    "print(NAND(0, 0))"
   ]
  },
  {
   "cell_type": "code",
   "execution_count": 4,
   "metadata": {},
   "outputs": [
    {
     "name": "stdout",
     "output_type": "stream",
     "text": [
      "1\n",
      "1\n",
      "1\n",
      "0\n"
     ]
    }
   ],
   "source": [
    "def OR(x1, x2) :\n",
    "    x = np.array([x1, x2])\n",
    "    w = np.array([0.5, 0.5])\n",
    "    b = -0.2\n",
    "    \n",
    "    tmp = np.sum(w*x) + b\n",
    "    if tmp <= 0:\n",
    "        return 0\n",
    "    else :\n",
    "        return 1\n",
    "print(OR(1, 1))\n",
    "print(OR(1, 0))\n",
    "print(OR(0, 1))\n",
    "print(OR(0, 0))"
   ]
  },
  {
   "cell_type": "code",
   "execution_count": 5,
   "metadata": {},
   "outputs": [
    {
     "name": "stdout",
     "output_type": "stream",
     "text": [
      "0\n",
      "1\n",
      "1\n",
      "0\n"
     ]
    }
   ],
   "source": [
    "def XOR(x1, x2) :\n",
    "    s1 = NAND(x1, x2)\n",
    "    s2 = OR(x1, x2)\n",
    "    y = AND(s1, s2)\n",
    "    return y\n",
    "    \n",
    "print(XOR(1, 1))\n",
    "print(XOR(1, 0))\n",
    "print(XOR(0, 1))\n",
    "print(XOR(0, 0))\n"
   ]
  },
  {
   "cell_type": "code",
   "execution_count": 6,
   "metadata": {},
   "outputs": [
    {
     "name": "stdout",
     "output_type": "stream",
     "text": [
      "WARNING:tensorflow:From C:\\Users\\kyeong min\\anaconda3\\envs\\tensorflow\\lib\\site-packages\\tensorflow_core\\python\\compat\\v2_compat.py:88: disable_resource_variables (from tensorflow.python.ops.variable_scope) is deprecated and will be removed in a future version.\n",
      "Instructions for updating:\n",
      "non-resource variables are not supported in the long term\n"
     ]
    }
   ],
   "source": [
    "#import tensorflow as tf\n",
    "import tensorflow.compat.v1 as tf\n",
    "tf.disable_v2_behavior()\n",
    "\n",
    "import numpy as np\n",
    "import matplotlib.pyplot as plt"
   ]
  },
  {
   "cell_type": "code",
   "execution_count": 28,
   "metadata": {},
   "outputs": [
    {
     "data": {
      "image/png": "[encoded data removed]",
      "text/plain": [
       "<Figure size 432x288 with 1 Axes>"
      ]
     },
     "metadata": {
      "needs_background": "light"
     },
     "output_type": "display_data"
    }
   ],
   "source": [
    "\n",
    "x_train = [1, 2, 3]\n",
    "\n",
    "y_train = [2+0.1, 4-0.3, 6+0.15] # 약간의 noise 추가\n",
    "\n",
    "\n",
    "plt.plot(x_train, y_train, '.-')\n",
    "plt.grid()\n",
    "\n",
    "\n"
   ]
  },
  {
   "cell_type": "code",
   "execution_count": 31,
   "metadata": {},
   "outputs": [
    {
     "data": {
      "text/plain": [
       "array([-0.03924136, -0.37830125, -0.48185369])"
      ]
     },
     "execution_count": 31,
     "metadata": {},
     "output_type": "execute_result"
    }
   ],
   "source": [
    "signal_length = len(x_train)\n",
    "\n",
    "y_noise = np.random.normal(0, 1, signal_length)\n",
    "y_noise\n"
   ]
  },
  {
   "cell_type": "code",
   "execution_count": 32,
   "metadata": {},
   "outputs": [
    {
     "data": {
      "image/png": "[encoded data removed]",
      "text/plain": [
       "<Figure size 432x288 with 1 Axes>"
      ]
     },
     "metadata": {
      "needs_background": "light"
     },
     "output_type": "display_data"
    }
   ],
   "source": [
    "y_train = np.multiply(x_train, 2)\n",
    "plt.plot(x_train, y_train, '.-')\n",
    "plt.grid()\n",
    "\n"
   ]
  },
  {
   "cell_type": "code",
   "execution_count": 33,
   "metadata": {},
   "outputs": [
    {
     "data": {
      "image/png": "[encoded data removed]",
      "text/plain": [
       "<Figure size 432x288 with 1 Axes>"
      ]
     },
     "metadata": {
      "needs_background": "light"
     },
     "output_type": "display_data"
    }
   ],
   "source": [
    "y_train = [3, 5, 7]\n",
    "plt.plot(x_train, y_train, '.-')\n",
    "plt.grid()\n"
   ]
  },
  {
   "cell_type": "code",
   "execution_count": 34,
   "metadata": {},
   "outputs": [
    {
     "data": {
      "text/plain": [
       "array([2.96075864, 4.62169875, 6.51814631])"
      ]
     },
     "execution_count": 34,
     "metadata": {},
     "output_type": "execute_result"
    }
   ],
   "source": [
    "y_train = y_train + y_noise\n",
    "y_train\n"
   ]
  },
  {
   "cell_type": "code",
   "execution_count": 35,
   "metadata": {},
   "outputs": [
    {
     "data": {
      "image/png": "[encoded data removed]",
      "text/plain": [
       "<Figure size 432x288 with 1 Axes>"
      ]
     },
     "metadata": {
      "needs_background": "light"
     },
     "output_type": "display_data"
    }
   ],
   "source": [
    "plt.plot(x_train, y_train, '.-')\n",
    "plt.grid()\n"
   ]
  },
  {
   "cell_type": "code",
   "execution_count": 8,
   "metadata": {},
   "outputs": [
    {
     "data": {
      "text/plain": [
       "[2.1, 3.7, 6.15]"
      ]
     },
     "execution_count": 8,
     "metadata": {},
     "output_type": "execute_result"
    }
   ],
   "source": [
    "# x_train = np.arange(1.0, 5.0, 0.1)\n",
    "# y_train = np.log(x_train)\n",
    "# b = np.random.randn()\n",
    "\n",
    "# y_train = y_train+b\n",
    "\n",
    "\n",
    "x_train = [1, 2, 3]\n",
    "\n",
    "y_train = [2+0.1, 4-0.3, 6+0.15] # 약간의 noise 추가\n",
    "\n",
    "y_train\n",
    "\n"
   ]
  },
  {
   "cell_type": "code",
   "execution_count": 9,
   "metadata": {},
   "outputs": [
    {
     "data": {
      "image/png": "[encoded data removed]",
      "text/plain": [
       "<Figure size 432x288 with 1 Axes>"
      ]
     },
     "metadata": {
      "needs_background": "light"
     },
     "output_type": "display_data"
    }
   ],
   "source": [
    "plt.plot(x_train, y_train, '.-')\n",
    "plt.grid()"
   ]
  },
  {
   "cell_type": "code",
   "execution_count": 10,
   "metadata": {},
   "outputs": [],
   "source": [
    "w0 = 7.0\n",
    "b0 = 5.0\n",
    "\n",
    "w0 = tf.Variable(tf.random_normal([1]), name = 'weight')\n",
    "b0 = tf.Variable(tf.random_normal([1]), name = 'bias')\n",
    "\n"
   ]
  },
  {
   "cell_type": "code",
   "execution_count": 11,
   "metadata": {},
   "outputs": [
    {
     "data": {
      "text/plain": [
       "<tf.Tensor 'add:0' shape=(3,) dtype=float32>"
      ]
     },
     "execution_count": 11,
     "metadata": {},
     "output_type": "execute_result"
    }
   ],
   "source": [
    "hypothesis = x_train * w0 + b0\n",
    "hypothesis\n"
   ]
  },
  {
   "cell_type": "code",
   "execution_count": 12,
   "metadata": {},
   "outputs": [
    {
     "data": {
      "text/plain": [
       "<tf.Tensor 'Mean:0' shape=() dtype=float32>"
      ]
     },
     "execution_count": 12,
     "metadata": {},
     "output_type": "execute_result"
    }
   ],
   "source": [
    "loss = tf.reduce_mean(tf.square(hypothesis - y_train))\n",
    "loss\n"
   ]
  },
  {
   "cell_type": "code",
   "execution_count": 13,
   "metadata": {},
   "outputs": [
    {
     "data": {
      "text/plain": [
       "<tf.Operation 'GradientDescent' type=NoOp>"
      ]
     },
     "execution_count": 13,
     "metadata": {},
     "output_type": "execute_result"
    }
   ],
   "source": [
    "optimizer = tf.train.GradientDescentOptimizer(learning_rate = 0.01)\n",
    "train = optimizer.minimize(loss)\n",
    "train\n"
   ]
  },
  {
   "cell_type": "code",
   "execution_count": 14,
   "metadata": {},
   "outputs": [
    {
     "data": {
      "text/plain": [
       "<tensorflow.python.client.session.Session at 0x1709a4d63c8>"
      ]
     },
     "execution_count": 14,
     "metadata": {},
     "output_type": "execute_result"
    }
   ],
   "source": [
    "sess = tf.Session()\n",
    "sess\n"
   ]
  },
  {
   "cell_type": "code",
   "execution_count": 15,
   "metadata": {},
   "outputs": [],
   "source": [
    "sess.run(tf.global_variables_initializer())\n"
   ]
  },
  {
   "cell_type": "code",
   "execution_count": 16,
   "metadata": {},
   "outputs": [
    {
     "name": "stdout",
     "output_type": "stream",
     "text": [
      "0 \t 3.590606 0.9625939 0.3854245\n",
      "200 \t 0.07264832 1.8155887 0.4093745\n",
      "400 \t 0.05255257 1.8955965 0.22749785\n",
      "600 \t 0.044879053 1.9450366 0.115108944\n",
      "800 \t 0.04194894 1.9755876 0.045659423\n",
      "1000 \t 0.040830072 1.9944662 0.0027439208\n",
      "1200 \t 0.04040276 2.0061321 -0.023775233\n",
      "1400 \t 0.040239673 2.0133407 -0.040162455\n",
      "1600 \t 0.040177386 2.0177953 -0.05028866\n",
      "1800 \t 0.040153634 2.0205476 -0.056545608\n",
      "2000 \t 0.040144462 2.0222483 -0.060411576\n",
      "2200 \t 0.040141024 2.0232985 -0.06279975\n",
      "2400 \t 0.04013969 2.023948 -0.064274885\n",
      "2600 \t 0.040139228 2.024349 -0.06518662\n",
      "2800 \t 0.040139012 2.024596 -0.06575001\n",
      "3000 \t 0.04013895 2.0247505 -0.06609917\n",
      "3200 \t 0.0401389 2.0248456 -0.06631514\n",
      "3400 \t 0.040138856 2.0249023 -0.066445984\n",
      "3600 \t 0.04013888 2.0249414 -0.06653266\n",
      "3800 \t 0.04013894 2.0249631 -0.06658347\n",
      "4000 \t 0.040138867 2.0249755 -0.066612415\n",
      "4200 \t 0.040138856 2.0249827 -0.0666289\n",
      "4400 \t 0.040138904 2.0249867 -0.06663825\n",
      "4600 \t 0.040138926 2.024989 -0.06664352\n",
      "4800 \t 0.04013887 2.02499 -0.06664646\n",
      "5000 \t 0.040138904 2.0249908 -0.06664799\n",
      "5200 \t 0.040138904 2.0249908 -0.06664799\n",
      "5400 \t 0.040138904 2.0249908 -0.06664799\n",
      "5600 \t 0.040138904 2.0249908 -0.06664799\n",
      "5800 \t 0.040138904 2.0249908 -0.06664799\n",
      "6000 \t 0.040138904 2.0249908 -0.06664799\n",
      "6200 \t 0.040138904 2.0249908 -0.06664799\n",
      "6400 \t 0.040138904 2.0249908 -0.06664799\n",
      "6600 \t 0.040138904 2.0249908 -0.06664799\n",
      "6800 \t 0.040138904 2.0249908 -0.06664799\n",
      "7000 \t 0.040138904 2.0249908 -0.06664799\n",
      "7200 \t 0.040138904 2.0249908 -0.06664799\n",
      "7400 \t 0.040138904 2.0249908 -0.06664799\n",
      "7600 \t 0.040138904 2.0249908 -0.06664799\n",
      "7800 \t 0.040138904 2.0249908 -0.06664799\n",
      "8000 \t 0.040138904 2.0249908 -0.06664799\n",
      "8200 \t 0.040138904 2.0249908 -0.06664799\n",
      "8400 \t 0.040138904 2.0249908 -0.06664799\n",
      "8600 \t 0.040138904 2.0249908 -0.06664799\n",
      "8800 \t 0.040138904 2.0249908 -0.06664799\n",
      "9000 \t 0.040138904 2.0249908 -0.06664799\n",
      "9200 \t 0.040138904 2.0249908 -0.06664799\n",
      "9400 \t 0.040138904 2.0249908 -0.06664799\n",
      "9600 \t 0.040138904 2.0249908 -0.06664799\n",
      "9800 \t 0.040138904 2.0249908 -0.06664799\n",
      "10000 \t 0.040138904 2.0249908 -0.06664799\n"
     ]
    }
   ],
   "source": [
    "nb_epoch = 10001\n",
    "vloss = []\n",
    "vb = []\n",
    "vw = []\n",
    "\n",
    "for step in range(nb_epoch) :\n",
    "    sess.run(train)\n",
    "    \n",
    "    if step % 200 == 0 :\n",
    "        w1 = sess.run(w0)[0]\n",
    "        b1 = sess.run(b0)[0]\n",
    "        loss1 = sess.run(loss)\n",
    "        vb.append(b1)\n",
    "        vw.append(w1)\n",
    "        \n",
    "        \n",
    "        vloss.append(loss1)\n",
    "        print(step, '\\t', loss1, w1, b1)\n",
    "        \n",
    "        "
   ]
  },
  {
   "cell_type": "code",
   "execution_count": 17,
   "metadata": {},
   "outputs": [
    {
     "data": {
      "text/plain": [
       "Text(0, 0.5, 'loss')"
      ]
     },
     "execution_count": 17,
     "metadata": {},
     "output_type": "execute_result"
    },
    {
     "data": {
      "image/png": "[encoded data removed]",
      "text/plain": [
       "<Figure size 432x288 with 1 Axes>"
      ]
     },
     "metadata": {
      "needs_background": "light"
     },
     "output_type": "display_data"
    }
   ],
   "source": [
    "plt.plot(vloss[:10])\n",
    "plt.xlabel(\"epoch\")\n",
    "plt.ylabel(\"loss\")"
   ]
  },
  {
   "cell_type": "code",
   "execution_count": 49,
   "metadata": {},
   "outputs": [
    {
     "data": {
      "text/plain": [
       "50.005"
      ]
     },
     "execution_count": 49,
     "metadata": {},
     "output_type": "execute_result"
    }
   ],
   "source": [
    "nb_epoch/200\n",
    "\n"
   ]
  },
  {
   "cell_type": "code",
   "execution_count": 59,
   "metadata": {},
   "outputs": [
    {
     "data": {
      "text/plain": [
       "Text(0, 0.5, 'weight')"
      ]
     },
     "execution_count": 59,
     "metadata": {},
     "output_type": "execute_result"
    },
    {
     "data": {
      "image/png": "[encoded data removed]",
      "text/plain": [
       "<Figure size 432x288 with 1 Axes>"
      ]
     },
     "metadata": {
      "needs_background": "light"
     },
     "output_type": "display_data"
    }
   ],
   "source": [
    "plt.plot(vw[:50], '.-')      #TODO \n",
    "plt.xlabel(\"epoch\")\n",
    "plt.ylabel(\"weight\")\n",
    "\n",
    "\n"
   ]
  },
  {
   "cell_type": "code",
   "execution_count": 56,
   "metadata": {},
   "outputs": [
    {
     "data": {
      "text/plain": [
       "Text(0, 0.5, 'weight')"
      ]
     },
     "execution_count": 56,
     "metadata": {},
     "output_type": "execute_result"
    },
    {
     "data": {
      "image/png": "[encoded data removed]",
      "text/plain": [
       "<Figure size 432x288 with 1 Axes>"
      ]
     },
     "metadata": {
      "needs_background": "light"
     },
     "output_type": "display_data"
    }
   ],
   "source": [
    "plt.plot(vb[:50], '.-')       #TODO\n",
    "plt.xlabel(\"epoch\")\n",
    "plt.ylabel(\"weight\")\n"
   ]
  },
  {
   "cell_type": "code",
   "execution_count": 50,
   "metadata": {},
   "outputs": [
    {
     "name": "stdout",
     "output_type": "stream",
     "text": [
      "(51,)\n",
      "(51,)\n"
     ]
    }
   ],
   "source": [
    "print(np.shape(vw))\n",
    "print(np.shape(vb))\n",
    "\n"
   ]
  },
  {
   "cell_type": "code",
   "execution_count": 18,
   "metadata": {},
   "outputs": [
    {
     "data": {
      "text/plain": [
       "[<matplotlib.lines.Line2D at 0x1709a4eab08>]"
      ]
     },
     "execution_count": 18,
     "metadata": {},
     "output_type": "execute_result"
    },
    {
     "data": {
      "image/png": "[encoded data removed]",
      "text/plain": [
       "<Figure size 432x288 with 1 Axes>"
      ]
     },
     "metadata": {
      "needs_background": "light"
     },
     "output_type": "display_data"
    }
   ],
   "source": [
    "plt.plot(vw, vb)\n"
   ]
  },
  {
   "cell_type": "code",
   "execution_count": 19,
   "metadata": {},
   "outputs": [
    {
     "name": "stdout",
     "output_type": "stream",
     "text": [
      "2.0249908 -0.06664799\n"
     ]
    }
   ],
   "source": [
    "w1 = sess.run(w0)[0]\n",
    "b1 = sess.run(b0)[0]\n",
    "print(w1, b1)\n"
   ]
  },
  {
   "cell_type": "code",
   "execution_count": 20,
   "metadata": {},
   "outputs": [
    {
     "name": "stdout",
     "output_type": "stream",
     "text": [
      "y = 2.0249908x + -0.06664799\n"
     ]
    }
   ],
   "source": [
    "str1 = 'y = ' + str(w1) +'x + ' + str(b1)\n",
    "print(str1)\n"
   ]
  },
  {
   "cell_type": "code",
   "execution_count": 21,
   "metadata": {},
   "outputs": [
    {
     "data": {
      "text/plain": [
       "Text(0.5, 1.0, 'y = 2.0249908x + -0.06664799')"
      ]
     },
     "execution_count": 21,
     "metadata": {},
     "output_type": "execute_result"
    },
    {
     "data": {
      "image/png": "[encoded data removed]",
      "text/plain": [
       "<Figure size 432x288 with 1 Axes>"
      ]
     },
     "metadata": {
      "needs_background": "light"
     },
     "output_type": "display_data"
    }
   ],
   "source": [
    "plt.figure(figsize = (6, 4))\n",
    "plt.plot(x_train, y_train, \"o\")\n",
    "\n",
    "x1 = np.linspace(np.min(x_train)-1, np.max(x_train)+1)\n",
    "y1 = w1*x1 + b1 \n",
    "plt.plot(x1, y1)\n",
    "plt.grid()\n",
    "\n",
    "plt.title(str1)\n",
    "\n"
   ]
  },
  {
   "cell_type": "code",
   "execution_count": 60,
   "metadata": {},
   "outputs": [
    {
     "data": {
      "text/plain": [
       "Text(0.5, 1.0, 'y = 2.0249908x + -0.06664799')"
      ]
     },
     "execution_count": 60,
     "metadata": {},
     "output_type": "execute_result"
    },
    {
     "data": {
      "image/png": "[encoded data removed]",
      "text/plain": [
       "<Figure size 576x432 with 1 Axes>"
      ]
     },
     "metadata": {
      "needs_background": "light"
     },
     "output_type": "display_data"
    }
   ],
   "source": [
    "plt.figure(figsize = (8, 6))          #change figsize\n",
    "plt.plot(x_train, y_train, \"o\")\n",
    "\n",
    "x1 = np.linspace(np.min(x_train)-1, np.max(x_train)+1)\n",
    "y1 = w1*x1 + b1 \n",
    "plt.plot(x1, y1)\n",
    "plt.grid()\n",
    "\n",
    "plt.title(str1)\n"
   ]
  },
  {
   "cell_type": "code",
   "execution_count": 66,
   "metadata": {},
   "outputs": [
    {
     "data": {
      "text/plain": [
       "(100,)"
      ]
     },
     "execution_count": 66,
     "metadata": {},
     "output_type": "execute_result"
    }
   ],
   "source": [
    "x_train = np.arange(-5.0, 5.0, 0.1)\n",
    "y_train = np.sin(x_train)\n",
    "signal_length = len(x_train)\n",
    "\n",
    "y_noise = np.random.normal(0, 0.1, signal_length)\n",
    "np.shape(y_noise)\n",
    "\n",
    "\n"
   ]
  },
  {
   "cell_type": "code",
   "execution_count": 67,
   "metadata": {},
   "outputs": [
    {
     "data": {
      "text/plain": [
       "Text(0, 0.5, 'y_train')"
      ]
     },
     "execution_count": 67,
     "metadata": {},
     "output_type": "execute_result"
    },
    {
     "data": {
      "image/png": "[encoded data removed]",
      "text/plain": [
       "<Figure size 432x288 with 1 Axes>"
      ]
     },
     "metadata": {
      "needs_background": "light"
     },
     "output_type": "display_data"
    }
   ],
   "source": [
    "y_train = y_train + y_noise\n",
    "plt.plot(x_train, y_train, '.-')\n",
    "plt.grid()\n",
    "plt.xlabel(\"x_train\")\n",
    "plt.ylabel(\"y_train\")\n"
   ]
  },
  {
   "cell_type": "code",
   "execution_count": 85,
   "metadata": {},
   "outputs": [],
   "source": [
    "w0_train = 1.0\n",
    "b0_train = 0.01\n",
    "\n",
    "w_train = tf.Variable(w0_train*tf.ones([1]), name = \"weight\")\n",
    "b_train = tf.Variable(b0_train*tf.ones([1]), name = \"bias\")\n",
    "\n",
    "hypothesis = x_train*w_train + b_train\n",
    "\n",
    "loss = tf.reduce_mean(tf.square(hypothesis - y_train))\n",
    "\n",
    "optimizer = tf.train.GradientDescentOptimizer(learning_rate = 0.1)\n",
    "train = optimizer.minimize(loss)\n",
    "\n",
    "sess = tf.Session()\n",
    "sess.run(tf.global_variables_initializer())\n",
    "\n",
    "\n"
   ]
  },
  {
   "cell_type": "code",
   "execution_count": 86,
   "metadata": {},
   "outputs": [
    {
     "name": "stdout",
     "output_type": "stream",
     "text": [
      "0 \t 4.6350145 \t -0.76322496 \t 0.019677486\n",
      "200 \t 0.4855317 \t -0.05775046 \t 0.0054999427\n",
      "400 \t 0.4855317 \t -0.057750452 \t 0.0054999436\n",
      "600 \t 0.4855317 \t -0.057750452 \t 0.0054999418\n",
      "800 \t 0.4855317 \t -0.05775046 \t 0.005499943\n",
      "1000 \t 0.4855317 \t -0.05775045 \t 0.0054999427\n",
      "1200 \t 0.4855317 \t -0.057750452 \t 0.005499942\n",
      "1400 \t 0.4855317 \t -0.05775046 \t 0.0054999436\n",
      "1600 \t 0.4855317 \t -0.05775046 \t 0.0054999418\n",
      "1800 \t 0.4855317 \t -0.057750452 \t 0.0054999427\n",
      "2000 \t 0.4855317 \t -0.05775046 \t 0.005499944\n",
      "2200 \t 0.4855317 \t -0.05775046 \t 0.005499942\n",
      "2400 \t 0.4855317 \t -0.057750452 \t 0.005499943\n",
      "2600 \t 0.4855317 \t -0.057750456 \t 0.0054999427\n",
      "2800 \t 0.4855317 \t -0.05775046 \t 0.0054999427\n",
      "3000 \t 0.4855317 \t -0.057750452 \t 0.0054999436\n",
      "3200 \t 0.4855317 \t -0.057750452 \t 0.0054999418\n",
      "3400 \t 0.4855317 \t -0.05775046 \t 0.005499943\n",
      "3600 \t 0.4855317 \t -0.05775045 \t 0.0054999427\n",
      "3800 \t 0.4855317 \t -0.057750452 \t 0.005499942\n",
      "4000 \t 0.4855317 \t -0.05775046 \t 0.0054999436\n",
      "4200 \t 0.4855317 \t -0.05775046 \t 0.0054999418\n",
      "4400 \t 0.4855317 \t -0.057750452 \t 0.0054999427\n",
      "4600 \t 0.4855317 \t -0.05775046 \t 0.005499944\n",
      "4800 \t 0.4855317 \t -0.05775046 \t 0.005499942\n",
      "5000 \t 0.4855317 \t -0.057750452 \t 0.005499943\n",
      "5200 \t 0.4855317 \t -0.057750456 \t 0.0054999427\n",
      "5400 \t 0.4855317 \t -0.05775046 \t 0.0054999427\n",
      "5600 \t 0.4855317 \t -0.057750452 \t 0.0054999436\n",
      "5800 \t 0.4855317 \t -0.057750452 \t 0.0054999418\n",
      "6000 \t 0.4855317 \t -0.05775046 \t 0.005499943\n",
      "6200 \t 0.4855317 \t -0.05775045 \t 0.0054999427\n",
      "6400 \t 0.4855317 \t -0.057750452 \t 0.005499942\n",
      "6600 \t 0.4855317 \t -0.05775046 \t 0.0054999436\n",
      "6800 \t 0.4855317 \t -0.05775046 \t 0.0054999418\n",
      "7000 \t 0.4855317 \t -0.057750452 \t 0.0054999427\n",
      "7200 \t 0.4855317 \t -0.05775046 \t 0.005499944\n",
      "7400 \t 0.4855317 \t -0.05775046 \t 0.005499942\n",
      "7600 \t 0.4855317 \t -0.057750452 \t 0.005499943\n",
      "7800 \t 0.4855317 \t -0.057750456 \t 0.0054999427\n",
      "8000 \t 0.4855317 \t -0.05775046 \t 0.0054999427\n",
      "8200 \t 0.4855317 \t -0.057750452 \t 0.0054999436\n",
      "8400 \t 0.4855317 \t -0.057750452 \t 0.0054999418\n",
      "8600 \t 0.4855317 \t -0.05775046 \t 0.005499943\n",
      "8800 \t 0.4855317 \t -0.05775045 \t 0.0054999427\n",
      "9000 \t 0.4855317 \t -0.057750452 \t 0.005499942\n",
      "9200 \t 0.4855317 \t -0.05775046 \t 0.0054999436\n",
      "9400 \t 0.4855317 \t -0.05775046 \t 0.0054999418\n",
      "9600 \t 0.4855317 \t -0.057750452 \t 0.0054999427\n",
      "9800 \t 0.4855317 \t -0.05775046 \t 0.005499944\n",
      "10000 \t 0.4855317 \t -0.05775046 \t 0.005499942\n"
     ]
    }
   ],
   "source": [
    "nb_epoch_sin = 10000\n",
    "vloss_sin = []\n",
    "vb_sin = []\n",
    "vw_sin = []\n",
    "\n",
    "for step in range(nb_epoch) :\n",
    "    sess.run(train)\n",
    "    loss1 = sess.run(loss)\n",
    "    vloss_sin.append(loss1)\n",
    "    \n",
    "    if step % 200 == 0 :\n",
    "        w_sin = sess.run(w_train)[0]\n",
    "        b_sin = sess.run(b_train)[0]\n",
    "        \n",
    "        print(step, \"\\t\", loss1, \"\\t\", w_sin, \"\\t\", b_sin)\n",
    "        "
   ]
  },
  {
   "cell_type": "code",
   "execution_count": 87,
   "metadata": {},
   "outputs": [
    {
     "data": {
      "text/plain": [
       "Text(0, 0.5, 'loss')"
      ]
     },
     "execution_count": 87,
     "metadata": {},
     "output_type": "execute_result"
    },
    {
     "data": {
      "image/png": "[encoded data removed]",
      "text/plain": [
       "<Figure size 432x288 with 1 Axes>"
      ]
     },
     "metadata": {
      "needs_background": "light"
     },
     "output_type": "display_data"
    }
   ],
   "source": [
    "plt.plot(vloss[:100], '.-')\n",
    "plt.xlabel(\"epoch\")\n",
    "plt.ylabel(\"loss\")\n",
    "#not learning"
   ]
  },
  {
   "cell_type": "code",
   "execution_count": 88,
   "metadata": {},
   "outputs": [
    {
     "name": "stdout",
     "output_type": "stream",
     "text": [
      "[-0.05775046] [0.00549994]\n"
     ]
    }
   ],
   "source": [
    "w2 = sess.run(w_train)\n",
    "b2 = sess.run(b_train)\n",
    "print(w2, b2)\n"
   ]
  },
  {
   "cell_type": "code",
   "execution_count": null,
   "metadata": {},
   "outputs": [],
   "source": []
  }
 ],
 "metadata": {
  "kernelspec": {
   "display_name": "Python 3",
   "language": "python",
   "name": "python3"
  },
  "language_info": {
   "codemirror_mode": {
    "name": "ipython",
    "version": 3
   },
   "file_extension": ".py",
   "mimetype": "text/x-python",
   "name": "python",
   "nbconvert_exporter": "python",
   "pygments_lexer": "ipython3",
   "version": "3.8.5"
  }
 },
 "nbformat": 4,
 "nbformat_minor": 4
}
